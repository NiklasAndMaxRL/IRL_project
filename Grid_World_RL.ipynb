{
 "cells": [
  {
   "cell_type": "markdown",
   "id": "48d66e35",
   "metadata": {},
   "source": [
    "# Grid World RL"
   ]
  },
  {
   "cell_type": "code",
   "execution_count": 66,
   "id": "549b950c",
   "metadata": {},
   "outputs": [],
   "source": [
    "import numpy as np\n",
    "\n",
    "\n",
    "class Grid_World():\n",
    "    def __init__(self, size, start = (0,0), walls = None, traps = None, intermediate_goals = None, goals = None):\n",
    "        \n",
    "        self.A = [(1,0), (0,1), (-1,0), (0,-1)]\n",
    "        \n",
    "        self.gameover, self.win, self.lose = ( False, False, False )\n",
    "        \n",
    "        self.rows = size[0]\n",
    "        self.cols = size[1]\n",
    "        \n",
    "        self.player_pos = start #np.array(start)\n",
    "        \n",
    "        self.traps = traps\n",
    "        self.goals = goals\n",
    "        \n",
    "        # board:\n",
    "        # 0 is empty\n",
    "        # -1 is wall\n",
    "        # -10 is trap\n",
    "        # +1 is intermediate_goal\n",
    "        # +10 is goal\n",
    "        # #2 is player\n",
    "        \n",
    "        self.board = np.zeros((self.rows, self.cols))\n",
    "        \n",
    "        #self.board[start] = 2\n",
    "        \n",
    "        for wall in walls:\n",
    "            self.board[wall] = -1\n",
    "            \n",
    "        for trap in traps:\n",
    "            self.board[trap] = -10\n",
    "            \n",
    "        for intermediate_goal in intermediate_goals:\n",
    "            self.board[intermediate_goal] = 1\n",
    "            \n",
    "        for goal in goals:\n",
    "            self.board[goal] = 10\n",
    "        \n",
    "    def get_board(self):\n",
    "        return self.board\n",
    "    \n",
    "    def pass_action(self, action):\n",
    "        print(action)\n",
    "        self.player_pos = ( self.player_pos[0] + action[0], self.player_pos[1] + action[1] ) #self.player_pos += action\n",
    "        return self.player_pos\n",
    "    \n",
    "    def get_action(self):\n",
    "        return self.A[np.random.choice([x for x, _ in enumerate(self.A)])]# optimize!!!\n",
    "    \n",
    "    def check_gameover(self):\n",
    "        if self.player_pos in self.traps:\n",
    "            self.gameover = True\n",
    "            self.win = True\n",
    "        if self.player_pos in self.goals:\n",
    "            self.gameover = True\n",
    "            self.lose = True\n",
    "        return (self.gameover, self.win, self.lose)\n",
    "        \n",
    "    \n",
    "    "
   ]
  },
  {
   "cell_type": "code",
   "execution_count": 67,
   "id": "8acc7dc2",
   "metadata": {},
   "outputs": [
    {
     "name": "stdout",
     "output_type": "stream",
     "text": [
      "(1, 0)\n",
      "(1, 0)\n",
      "(0, 1)\n",
      "lose\n",
      "[[  0.   0. -10.]\n",
      " [  0.  -1.   0.]\n",
      " [  0.   0.  10.]]\n"
     ]
    }
   ],
   "source": [
    "grid_world = Grid_World( (3,3), start = (0,1), walls = [(1,1)], traps = [(0,2)], intermediate_goals = [], goals = [(2,2)] )\n",
    "grid_world.get_board()\n",
    "\n",
    "i = 0\n",
    "\n",
    "while(i < 100):\n",
    "    \n",
    "    grid_world.pass_action(grid_world.get_action())\n",
    "    \n",
    "    gameover, win, lose = grid_world.check_gameover()\n",
    "    \n",
    "    if gameover == True:\n",
    "        if win == True:\n",
    "            print('win')\n",
    "        else:\n",
    "            print('lose')\n",
    "        print(grid_world.get_board())\n",
    "        break\n",
    "    \n",
    "    i += 1"
   ]
  },
  {
   "cell_type": "code",
   "execution_count": 20,
   "id": "1b43287e",
   "metadata": {},
   "outputs": [
    {
     "data": {
      "text/plain": [
       "array([1, 3])"
      ]
     },
     "execution_count": 20,
     "metadata": {},
     "output_type": "execute_result"
    }
   ],
   "source": [
    "arr = np.array((1,2))\n",
    "arr + (0,1)"
   ]
  },
  {
   "cell_type": "code",
   "execution_count": 32,
   "id": "875e88a2",
   "metadata": {},
   "outputs": [
    {
     "data": {
      "text/plain": [
       "0"
      ]
     },
     "execution_count": 32,
     "metadata": {},
     "output_type": "execute_result"
    }
   ],
   "source": [
    "np.random.choice([x for x, _ in enumerate([(1,0),(0,1)])])"
   ]
  },
  {
   "cell_type": "code",
   "execution_count": 33,
   "id": "ac186fd7",
   "metadata": {},
   "outputs": [
    {
     "name": "stdout",
     "output_type": "stream",
     "text": [
      "False False False\n"
     ]
    }
   ],
   "source": [
    "gameover, win, lose = (False, False, False)\n",
    "print(gameover, win, lose )"
   ]
  },
  {
   "cell_type": "code",
   "execution_count": 60,
   "id": "4e8e2db0",
   "metadata": {},
   "outputs": [
    {
     "data": {
      "text/plain": [
       "array([[ True,  True],\n",
       "       [False, False]])"
      ]
     },
     "execution_count": 60,
     "metadata": {},
     "output_type": "execute_result"
    }
   ],
   "source": [
    "np.array([(1,2), (4,3)]) == (1,2)"
   ]
  },
  {
   "cell_type": "code",
   "execution_count": 71,
   "id": "816d64ff",
   "metadata": {},
   "outputs": [
    {
     "ename": "ValueError",
     "evalue": "The truth value of an array with more than one element is ambiguous. Use a.any() or a.all()",
     "output_type": "error",
     "traceback": [
      "\u001b[1;31m---------------------------------------------------------------------------\u001b[0m",
      "\u001b[1;31mValueError\u001b[0m                                Traceback (most recent call last)",
      "Input \u001b[1;32mIn [71]\u001b[0m, in \u001b[0;36m<cell line: 1>\u001b[1;34m()\u001b[0m\n\u001b[1;32m----> 1\u001b[0m \u001b[43m(\u001b[49m\u001b[38;5;241;43m1\u001b[39;49m\u001b[43m,\u001b[49m\u001b[38;5;241;43m2\u001b[39;49m\u001b[43m)\u001b[49m\u001b[43m \u001b[49m\u001b[38;5;129;43;01min\u001b[39;49;00m\u001b[43m \u001b[49m\u001b[38;5;28;43mlist\u001b[39;49m\u001b[43m(\u001b[49m\u001b[43mnp\u001b[49m\u001b[38;5;241;43m.\u001b[39;49m\u001b[43marray\u001b[49m\u001b[43m(\u001b[49m\u001b[43m[\u001b[49m\u001b[43m(\u001b[49m\u001b[38;5;241;43m1\u001b[39;49m\u001b[43m,\u001b[49m\u001b[38;5;241;43m2\u001b[39;49m\u001b[43m)\u001b[49m\u001b[43m,\u001b[49m\u001b[43m(\u001b[49m\u001b[38;5;241;43m3\u001b[39;49m\u001b[43m,\u001b[49m\u001b[38;5;241;43m4\u001b[39;49m\u001b[43m)\u001b[49m\u001b[43m]\u001b[49m\u001b[43m)\u001b[49m\u001b[43m)\u001b[49m\n",
      "\u001b[1;31mValueError\u001b[0m: The truth value of an array with more than one element is ambiguous. Use a.any() or a.all()"
     ]
    }
   ],
   "source": [
    "(1,2) in list(np.array([(1,2),(3,4)]))"
   ]
  },
  {
   "cell_type": "code",
   "execution_count": null,
   "id": "0b7a72da",
   "metadata": {},
   "outputs": [],
   "source": []
  }
 ],
 "metadata": {
  "kernelspec": {
   "display_name": "Python 3 (ipykernel)",
   "language": "python",
   "name": "python3"
  },
  "language_info": {
   "codemirror_mode": {
    "name": "ipython",
    "version": 3
   },
   "file_extension": ".py",
   "mimetype": "text/x-python",
   "name": "python",
   "nbconvert_exporter": "python",
   "pygments_lexer": "ipython3",
   "version": "3.8.3"
  }
 },
 "nbformat": 4,
 "nbformat_minor": 5
}
